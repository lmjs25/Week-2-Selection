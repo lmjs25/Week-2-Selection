{
 "cells": [
  {
   "cell_type": "code",
   "execution_count": 20,
   "metadata": {},
   "outputs": [
    {
     "name": "stdout",
     "output_type": "stream",
     "text": [
      "Hello World\n"
     ]
    }
   ],
   "source": [
    "a = True\n",
    "a = 0 #false\n",
    "a = \"\" #false\n",
    "a = ' ' #false\n",
    "\n",
    "if a:\n",
    "    print(\"Hello World\")\n",
    "else:\n",
    "    print(\"Hello from Else World\")"
   ]
  },
  {
   "cell_type": "code",
   "execution_count": 21,
   "metadata": {},
   "outputs": [
    {
     "name": "stdout",
     "output_type": "stream",
     "text": [
      "Hello World\n"
     ]
    }
   ],
   "source": [
    "a=3.3 # only - is considered false, if the integer literal or float value is negative or positive, it will be true\n",
    "if a:\n",
    "    print(\"Hello World\")\n",
    "else:\n",
    "    print(\"I'm from else\")"
   ]
  },
  {
   "cell_type": "markdown",
   "metadata": {},
   "source": [
    "Boolean Expressions"
   ]
  },
  {
   "cell_type": "code",
   "execution_count": null,
   "metadata": {},
   "outputs": [],
   "source": []
  },
  {
   "cell_type": "code",
   "execution_count": 22,
   "metadata": {},
   "outputs": [
    {
     "name": "stdout",
     "output_type": "stream",
     "text": [
      "I am from else\n"
     ]
    }
   ],
   "source": [
    "a = True\n",
    "a= \"a\"\n",
    "if True==a: #true is treated as 1 and false is treated as 0, empty strings treated as 0, test different combinations to study for test\n",
    "    print(\"Hello World\")\n",
    "else:\n",
    "    print(\"I am from else\")"
   ]
  },
  {
   "cell_type": "markdown",
   "metadata": {},
   "source": [
    "If statement that assigns 1 to x if y>0"
   ]
  },
  {
   "cell_type": "code",
   "execution_count": 28,
   "metadata": {},
   "outputs": [
    {
     "name": "stdout",
     "output_type": "stream",
     "text": [
      "1\n"
     ]
    }
   ],
   "source": [
    "y = eval(input(\"Enter a number\"))\n",
    "if y>0:\n",
    "    x = 1\n",
    "else:\n",
    "    x = 0\n",
    "print(x)"
   ]
  },
  {
   "cell_type": "code",
   "execution_count": 33,
   "metadata": {},
   "outputs": [
    {
     "name": "stdout",
     "output_type": "stream",
     "text": [
      "Tuesday\n"
     ]
    }
   ],
   "source": [
    "d = int(input(\"Enter a day from 1-7\"))\n",
    "if d==1:\n",
    "    print(\"Sunday\")\n",
    "elif d==2:\n",
    "    print(\"Monday\")\n",
    "elif d==3:\n",
    "    print(\"Tuesday\")\n",
    "elif d==4:\n",
    "    print(\"Wednesday\")\n",
    "elif d==5:\n",
    "    print(\"Thursday\")\n",
    "elif d==6:\n",
    "    print(\"Friday\")\n",
    "elif d==7:\n",
    "    print(\"Saturday\")"
   ]
  },
  {
   "cell_type": "code",
   "execution_count": null,
   "metadata": {},
   "outputs": [],
   "source": []
  }
 ],
 "metadata": {
  "kernelspec": {
   "display_name": "Python 3",
   "language": "python",
   "name": "python3"
  },
  "language_info": {
   "codemirror_mode": {
    "name": "ipython",
    "version": 3
   },
   "file_extension": ".py",
   "mimetype": "text/x-python",
   "name": "python",
   "nbconvert_exporter": "python",
   "pygments_lexer": "ipython3",
   "version": "3.12.1"
  }
 },
 "nbformat": 4,
 "nbformat_minor": 2
}
